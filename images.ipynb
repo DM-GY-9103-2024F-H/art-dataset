{
 "cells": [
  {
   "cell_type": "code",
   "execution_count": null,
   "metadata": {},
   "outputs": [],
   "source": [
    "!wget -q https://github.com/DM-GY-9103-2024F-H/9103-utils/raw/main/src/image_utils.py"
   ]
  },
  {
   "cell_type": "code",
   "execution_count": null,
   "metadata": {},
   "outputs": [],
   "source": [
    "from os import listdir, path\n",
    "from image_utils import open_image"
   ]
  },
  {
   "cell_type": "code",
   "execution_count": null,
   "metadata": {},
   "outputs": [],
   "source": [
    "img_in_dir = \"./imgs-00\"\n",
    "img_out_dir = \"./imgs\"\n",
    "\n",
    "def is_image_file(f):\n",
    "  f_lower = f.lower()\n",
    "  for e in [\"jpg\", \"jpeg\", \"png\"]:\n",
    "    if f_lower.endswith(e):\n",
    "      return True\n",
    "  return False\n",
    "\n",
    "fnames = sorted([f for f in listdir(img_in_dir) if is_image_file(f)])\n",
    "\n",
    "for i,fname in enumerate(fnames):\n",
    "  if i%100 == 99:\n",
    "    print(i)\n",
    "  img = open_image(path.join(img_in_dir, fname)).convert(\"RGB\")\n",
    "  iw, ih = img.size\n",
    "  mind = min(iw, ih)\n",
    "  nw = int((iw / mind) * 224)\n",
    "  nh = int((ih / mind) * 224)\n",
    "  img = img.resize((nw, nh))\n",
    "  img.save(path.join(img_out_dir, fname), format='JPEG', quality=90)"
   ]
  }
 ],
 "metadata": {
  "kernelspec": {
   "display_name": "ml",
   "language": "python",
   "name": "python3"
  },
  "language_info": {
   "codemirror_mode": {
    "name": "ipython",
    "version": 3
   },
   "file_extension": ".py",
   "mimetype": "text/x-python",
   "name": "python",
   "nbconvert_exporter": "python",
   "pygments_lexer": "ipython3",
   "version": "3.10.15"
  }
 },
 "nbformat": 4,
 "nbformat_minor": 2
}
